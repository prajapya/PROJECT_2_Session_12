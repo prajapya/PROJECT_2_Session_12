{
 "cells": [
  {
   "cell_type": "code",
   "execution_count": 1,
   "metadata": {},
   "outputs": [],
   "source": [
    "import sqlite3\n",
    "import pandas as pd\n",
    "from sklearn.tree import DecisionTreeRegressor\n",
    "from sklearn.linear_model import LinearRegression\n",
    "from sklearn.model_selection import train_test_split, cross_val_score\n",
    "from sklearn import metrics\n",
    "from sklearn.metrics import mean_squared_error\n",
    "from math import sqrt\n",
    "import seaborn as sns"
   ]
  },
  {
   "cell_type": "code",
   "execution_count": 2,
   "metadata": {},
   "outputs": [],
   "source": [
    "import matplotlib.pyplot as plt"
   ]
  },
  {
   "cell_type": "code",
   "execution_count": 3,
   "metadata": {},
   "outputs": [],
   "source": [
    "# Create your connection.\n",
    "cnx = sqlite3.connect('database.sqlite')"
   ]
  },
  {
   "cell_type": "code",
   "execution_count": 4,
   "metadata": {},
   "outputs": [],
   "source": [
    "df = pd.read_sql_query(\"SELECT * FROM Player_Attributes\", cnx)"
   ]
  },
  {
   "cell_type": "code",
   "execution_count": 5,
   "metadata": {},
   "outputs": [
    {
     "data": {
      "text/plain": [
       "(183978, 42)"
      ]
     },
     "execution_count": 5,
     "metadata": {},
     "output_type": "execute_result"
    }
   ],
   "source": [
    "df.shape"
   ]
  },
  {
   "cell_type": "code",
   "execution_count": 6,
   "metadata": {},
   "outputs": [
    {
     "data": {
      "text/html": [
       "<div>\n",
       "<style scoped>\n",
       "    .dataframe tbody tr th:only-of-type {\n",
       "        vertical-align: middle;\n",
       "    }\n",
       "\n",
       "    .dataframe tbody tr th {\n",
       "        vertical-align: top;\n",
       "    }\n",
       "\n",
       "    .dataframe thead th {\n",
       "        text-align: right;\n",
       "    }\n",
       "</style>\n",
       "<table border=\"1\" class=\"dataframe\">\n",
       "  <thead>\n",
       "    <tr style=\"text-align: right;\">\n",
       "      <th></th>\n",
       "      <th>id</th>\n",
       "      <th>player_fifa_api_id</th>\n",
       "      <th>player_api_id</th>\n",
       "      <th>date</th>\n",
       "      <th>overall_rating</th>\n",
       "      <th>potential</th>\n",
       "      <th>preferred_foot</th>\n",
       "      <th>attacking_work_rate</th>\n",
       "      <th>defensive_work_rate</th>\n",
       "      <th>crossing</th>\n",
       "      <th>...</th>\n",
       "      <th>vision</th>\n",
       "      <th>penalties</th>\n",
       "      <th>marking</th>\n",
       "      <th>standing_tackle</th>\n",
       "      <th>sliding_tackle</th>\n",
       "      <th>gk_diving</th>\n",
       "      <th>gk_handling</th>\n",
       "      <th>gk_kicking</th>\n",
       "      <th>gk_positioning</th>\n",
       "      <th>gk_reflexes</th>\n",
       "    </tr>\n",
       "  </thead>\n",
       "  <tbody>\n",
       "    <tr>\n",
       "      <th>0</th>\n",
       "      <td>1</td>\n",
       "      <td>218353</td>\n",
       "      <td>505942</td>\n",
       "      <td>2016-02-18 00:00:00</td>\n",
       "      <td>67.0</td>\n",
       "      <td>71.0</td>\n",
       "      <td>right</td>\n",
       "      <td>medium</td>\n",
       "      <td>medium</td>\n",
       "      <td>49.0</td>\n",
       "      <td>...</td>\n",
       "      <td>54.0</td>\n",
       "      <td>48.0</td>\n",
       "      <td>65.0</td>\n",
       "      <td>69.0</td>\n",
       "      <td>69.0</td>\n",
       "      <td>6.0</td>\n",
       "      <td>11.0</td>\n",
       "      <td>10.0</td>\n",
       "      <td>8.0</td>\n",
       "      <td>8.0</td>\n",
       "    </tr>\n",
       "    <tr>\n",
       "      <th>1</th>\n",
       "      <td>2</td>\n",
       "      <td>218353</td>\n",
       "      <td>505942</td>\n",
       "      <td>2015-11-19 00:00:00</td>\n",
       "      <td>67.0</td>\n",
       "      <td>71.0</td>\n",
       "      <td>right</td>\n",
       "      <td>medium</td>\n",
       "      <td>medium</td>\n",
       "      <td>49.0</td>\n",
       "      <td>...</td>\n",
       "      <td>54.0</td>\n",
       "      <td>48.0</td>\n",
       "      <td>65.0</td>\n",
       "      <td>69.0</td>\n",
       "      <td>69.0</td>\n",
       "      <td>6.0</td>\n",
       "      <td>11.0</td>\n",
       "      <td>10.0</td>\n",
       "      <td>8.0</td>\n",
       "      <td>8.0</td>\n",
       "    </tr>\n",
       "    <tr>\n",
       "      <th>2</th>\n",
       "      <td>3</td>\n",
       "      <td>218353</td>\n",
       "      <td>505942</td>\n",
       "      <td>2015-09-21 00:00:00</td>\n",
       "      <td>62.0</td>\n",
       "      <td>66.0</td>\n",
       "      <td>right</td>\n",
       "      <td>medium</td>\n",
       "      <td>medium</td>\n",
       "      <td>49.0</td>\n",
       "      <td>...</td>\n",
       "      <td>54.0</td>\n",
       "      <td>48.0</td>\n",
       "      <td>65.0</td>\n",
       "      <td>66.0</td>\n",
       "      <td>69.0</td>\n",
       "      <td>6.0</td>\n",
       "      <td>11.0</td>\n",
       "      <td>10.0</td>\n",
       "      <td>8.0</td>\n",
       "      <td>8.0</td>\n",
       "    </tr>\n",
       "    <tr>\n",
       "      <th>3</th>\n",
       "      <td>4</td>\n",
       "      <td>218353</td>\n",
       "      <td>505942</td>\n",
       "      <td>2015-03-20 00:00:00</td>\n",
       "      <td>61.0</td>\n",
       "      <td>65.0</td>\n",
       "      <td>right</td>\n",
       "      <td>medium</td>\n",
       "      <td>medium</td>\n",
       "      <td>48.0</td>\n",
       "      <td>...</td>\n",
       "      <td>53.0</td>\n",
       "      <td>47.0</td>\n",
       "      <td>62.0</td>\n",
       "      <td>63.0</td>\n",
       "      <td>66.0</td>\n",
       "      <td>5.0</td>\n",
       "      <td>10.0</td>\n",
       "      <td>9.0</td>\n",
       "      <td>7.0</td>\n",
       "      <td>7.0</td>\n",
       "    </tr>\n",
       "    <tr>\n",
       "      <th>4</th>\n",
       "      <td>5</td>\n",
       "      <td>218353</td>\n",
       "      <td>505942</td>\n",
       "      <td>2007-02-22 00:00:00</td>\n",
       "      <td>61.0</td>\n",
       "      <td>65.0</td>\n",
       "      <td>right</td>\n",
       "      <td>medium</td>\n",
       "      <td>medium</td>\n",
       "      <td>48.0</td>\n",
       "      <td>...</td>\n",
       "      <td>53.0</td>\n",
       "      <td>47.0</td>\n",
       "      <td>62.0</td>\n",
       "      <td>63.0</td>\n",
       "      <td>66.0</td>\n",
       "      <td>5.0</td>\n",
       "      <td>10.0</td>\n",
       "      <td>9.0</td>\n",
       "      <td>7.0</td>\n",
       "      <td>7.0</td>\n",
       "    </tr>\n",
       "  </tbody>\n",
       "</table>\n",
       "<p>5 rows × 42 columns</p>\n",
       "</div>"
      ],
      "text/plain": [
       "   id  player_fifa_api_id  player_api_id                 date  overall_rating  \\\n",
       "0   1              218353         505942  2016-02-18 00:00:00            67.0   \n",
       "1   2              218353         505942  2015-11-19 00:00:00            67.0   \n",
       "2   3              218353         505942  2015-09-21 00:00:00            62.0   \n",
       "3   4              218353         505942  2015-03-20 00:00:00            61.0   \n",
       "4   5              218353         505942  2007-02-22 00:00:00            61.0   \n",
       "\n",
       "   potential preferred_foot attacking_work_rate defensive_work_rate  crossing  \\\n",
       "0       71.0          right              medium              medium      49.0   \n",
       "1       71.0          right              medium              medium      49.0   \n",
       "2       66.0          right              medium              medium      49.0   \n",
       "3       65.0          right              medium              medium      48.0   \n",
       "4       65.0          right              medium              medium      48.0   \n",
       "\n",
       "      ...       vision  penalties  marking  standing_tackle  sliding_tackle  \\\n",
       "0     ...         54.0       48.0     65.0             69.0            69.0   \n",
       "1     ...         54.0       48.0     65.0             69.0            69.0   \n",
       "2     ...         54.0       48.0     65.0             66.0            69.0   \n",
       "3     ...         53.0       47.0     62.0             63.0            66.0   \n",
       "4     ...         53.0       47.0     62.0             63.0            66.0   \n",
       "\n",
       "   gk_diving  gk_handling  gk_kicking  gk_positioning  gk_reflexes  \n",
       "0        6.0         11.0        10.0             8.0          8.0  \n",
       "1        6.0         11.0        10.0             8.0          8.0  \n",
       "2        6.0         11.0        10.0             8.0          8.0  \n",
       "3        5.0         10.0         9.0             7.0          7.0  \n",
       "4        5.0         10.0         9.0             7.0          7.0  \n",
       "\n",
       "[5 rows x 42 columns]"
      ]
     },
     "execution_count": 6,
     "metadata": {},
     "output_type": "execute_result"
    }
   ],
   "source": [
    "df.head()"
   ]
  },
  {
   "cell_type": "code",
   "execution_count": 7,
   "metadata": {},
   "outputs": [
    {
     "name": "stdout",
     "output_type": "stream",
     "text": [
      "<class 'pandas.core.frame.DataFrame'>\n",
      "RangeIndex: 183978 entries, 0 to 183977\n",
      "Data columns (total 42 columns):\n",
      "id                     183978 non-null int64\n",
      "player_fifa_api_id     183978 non-null int64\n",
      "player_api_id          183978 non-null int64\n",
      "date                   183978 non-null object\n",
      "overall_rating         183142 non-null float64\n",
      "potential              183142 non-null float64\n",
      "preferred_foot         183142 non-null object\n",
      "attacking_work_rate    180748 non-null object\n",
      "defensive_work_rate    183142 non-null object\n",
      "crossing               183142 non-null float64\n",
      "finishing              183142 non-null float64\n",
      "heading_accuracy       183142 non-null float64\n",
      "short_passing          183142 non-null float64\n",
      "volleys                181265 non-null float64\n",
      "dribbling              183142 non-null float64\n",
      "curve                  181265 non-null float64\n",
      "free_kick_accuracy     183142 non-null float64\n",
      "long_passing           183142 non-null float64\n",
      "ball_control           183142 non-null float64\n",
      "acceleration           183142 non-null float64\n",
      "sprint_speed           183142 non-null float64\n",
      "agility                181265 non-null float64\n",
      "reactions              183142 non-null float64\n",
      "balance                181265 non-null float64\n",
      "shot_power             183142 non-null float64\n",
      "jumping                181265 non-null float64\n",
      "stamina                183142 non-null float64\n",
      "strength               183142 non-null float64\n",
      "long_shots             183142 non-null float64\n",
      "aggression             183142 non-null float64\n",
      "interceptions          183142 non-null float64\n",
      "positioning            183142 non-null float64\n",
      "vision                 181265 non-null float64\n",
      "penalties              183142 non-null float64\n",
      "marking                183142 non-null float64\n",
      "standing_tackle        183142 non-null float64\n",
      "sliding_tackle         181265 non-null float64\n",
      "gk_diving              183142 non-null float64\n",
      "gk_handling            183142 non-null float64\n",
      "gk_kicking             183142 non-null float64\n",
      "gk_positioning         183142 non-null float64\n",
      "gk_reflexes            183142 non-null float64\n",
      "dtypes: float64(35), int64(3), object(4)\n",
      "memory usage: 59.0+ MB\n"
     ]
    }
   ],
   "source": [
    "df.info()"
   ]
  },
  {
   "cell_type": "code",
   "execution_count": 8,
   "metadata": {},
   "outputs": [
    {
     "data": {
      "text/plain": [
       "id                        0\n",
       "player_fifa_api_id        0\n",
       "player_api_id             0\n",
       "date                      0\n",
       "overall_rating          836\n",
       "potential               836\n",
       "preferred_foot          836\n",
       "attacking_work_rate    3230\n",
       "defensive_work_rate     836\n",
       "crossing                836\n",
       "finishing               836\n",
       "heading_accuracy        836\n",
       "short_passing           836\n",
       "volleys                2713\n",
       "dribbling               836\n",
       "curve                  2713\n",
       "free_kick_accuracy      836\n",
       "long_passing            836\n",
       "ball_control            836\n",
       "acceleration            836\n",
       "sprint_speed            836\n",
       "agility                2713\n",
       "reactions               836\n",
       "balance                2713\n",
       "shot_power              836\n",
       "jumping                2713\n",
       "stamina                 836\n",
       "strength                836\n",
       "long_shots              836\n",
       "aggression              836\n",
       "interceptions           836\n",
       "positioning             836\n",
       "vision                 2713\n",
       "penalties               836\n",
       "marking                 836\n",
       "standing_tackle         836\n",
       "sliding_tackle         2713\n",
       "gk_diving               836\n",
       "gk_handling             836\n",
       "gk_kicking              836\n",
       "gk_positioning          836\n",
       "gk_reflexes             836\n",
       "dtype: int64"
      ]
     },
     "execution_count": 8,
     "metadata": {},
     "output_type": "execute_result"
    }
   ],
   "source": [
    "df.isnull().sum(axis=0)"
   ]
  },
  {
   "cell_type": "code",
   "execution_count": 9,
   "metadata": {},
   "outputs": [],
   "source": [
    "df.dropna(axis=0, inplace=True)"
   ]
  },
  {
   "cell_type": "code",
   "execution_count": 10,
   "metadata": {},
   "outputs": [
    {
     "data": {
      "text/plain": [
       "id                       int64\n",
       "player_fifa_api_id       int64\n",
       "player_api_id            int64\n",
       "date                    object\n",
       "overall_rating         float64\n",
       "potential              float64\n",
       "preferred_foot          object\n",
       "attacking_work_rate     object\n",
       "defensive_work_rate     object\n",
       "crossing               float64\n",
       "finishing              float64\n",
       "heading_accuracy       float64\n",
       "short_passing          float64\n",
       "volleys                float64\n",
       "dribbling              float64\n",
       "curve                  float64\n",
       "free_kick_accuracy     float64\n",
       "long_passing           float64\n",
       "ball_control           float64\n",
       "acceleration           float64\n",
       "sprint_speed           float64\n",
       "agility                float64\n",
       "reactions              float64\n",
       "balance                float64\n",
       "shot_power             float64\n",
       "jumping                float64\n",
       "stamina                float64\n",
       "strength               float64\n",
       "long_shots             float64\n",
       "aggression             float64\n",
       "interceptions          float64\n",
       "positioning            float64\n",
       "vision                 float64\n",
       "penalties              float64\n",
       "marking                float64\n",
       "standing_tackle        float64\n",
       "sliding_tackle         float64\n",
       "gk_diving              float64\n",
       "gk_handling            float64\n",
       "gk_kicking             float64\n",
       "gk_positioning         float64\n",
       "gk_reflexes            float64\n",
       "dtype: object"
      ]
     },
     "execution_count": 10,
     "metadata": {},
     "output_type": "execute_result"
    }
   ],
   "source": [
    "df.dtypes"
   ]
  },
  {
   "cell_type": "code",
   "execution_count": 11,
   "metadata": {},
   "outputs": [
    {
     "data": {
      "text/html": [
       "<div>\n",
       "<style scoped>\n",
       "    .dataframe tbody tr th:only-of-type {\n",
       "        vertical-align: middle;\n",
       "    }\n",
       "\n",
       "    .dataframe tbody tr th {\n",
       "        vertical-align: top;\n",
       "    }\n",
       "\n",
       "    .dataframe thead th {\n",
       "        text-align: right;\n",
       "    }\n",
       "</style>\n",
       "<table border=\"1\" class=\"dataframe\">\n",
       "  <thead>\n",
       "    <tr style=\"text-align: right;\">\n",
       "      <th></th>\n",
       "      <th>date</th>\n",
       "      <th>preferred_foot</th>\n",
       "      <th>attacking_work_rate</th>\n",
       "      <th>defensive_work_rate</th>\n",
       "    </tr>\n",
       "  </thead>\n",
       "  <tbody>\n",
       "    <tr>\n",
       "      <th>0</th>\n",
       "      <td>2016-02-18 00:00:00</td>\n",
       "      <td>right</td>\n",
       "      <td>medium</td>\n",
       "      <td>medium</td>\n",
       "    </tr>\n",
       "    <tr>\n",
       "      <th>1</th>\n",
       "      <td>2015-11-19 00:00:00</td>\n",
       "      <td>right</td>\n",
       "      <td>medium</td>\n",
       "      <td>medium</td>\n",
       "    </tr>\n",
       "    <tr>\n",
       "      <th>2</th>\n",
       "      <td>2015-09-21 00:00:00</td>\n",
       "      <td>right</td>\n",
       "      <td>medium</td>\n",
       "      <td>medium</td>\n",
       "    </tr>\n",
       "    <tr>\n",
       "      <th>3</th>\n",
       "      <td>2015-03-20 00:00:00</td>\n",
       "      <td>right</td>\n",
       "      <td>medium</td>\n",
       "      <td>medium</td>\n",
       "    </tr>\n",
       "    <tr>\n",
       "      <th>4</th>\n",
       "      <td>2007-02-22 00:00:00</td>\n",
       "      <td>right</td>\n",
       "      <td>medium</td>\n",
       "      <td>medium</td>\n",
       "    </tr>\n",
       "  </tbody>\n",
       "</table>\n",
       "</div>"
      ],
      "text/plain": [
       "                  date preferred_foot attacking_work_rate defensive_work_rate\n",
       "0  2016-02-18 00:00:00          right              medium              medium\n",
       "1  2015-11-19 00:00:00          right              medium              medium\n",
       "2  2015-09-21 00:00:00          right              medium              medium\n",
       "3  2015-03-20 00:00:00          right              medium              medium\n",
       "4  2007-02-22 00:00:00          right              medium              medium"
      ]
     },
     "execution_count": 11,
     "metadata": {},
     "output_type": "execute_result"
    }
   ],
   "source": [
    "df[['date','preferred_foot','attacking_work_rate','defensive_work_rate']].head()"
   ]
  },
  {
   "cell_type": "code",
   "execution_count": 12,
   "metadata": {},
   "outputs": [
    {
     "data": {
      "text/plain": [
       "right    136247\n",
       "left      44107\n",
       "Name: preferred_foot, dtype: int64"
      ]
     },
     "execution_count": 12,
     "metadata": {},
     "output_type": "execute_result"
    }
   ],
   "source": [
    "df.preferred_foot.value_counts()"
   ]
  },
  {
   "cell_type": "code",
   "execution_count": 13,
   "metadata": {},
   "outputs": [
    {
     "data": {
      "text/plain": [
       "medium    125070\n",
       "high       42823\n",
       "low         8569\n",
       "None        3317\n",
       "norm         317\n",
       "y             94\n",
       "stoc          86\n",
       "le            78\n",
       "Name: attacking_work_rate, dtype: int64"
      ]
     },
     "execution_count": 13,
     "metadata": {},
     "output_type": "execute_result"
    }
   ],
   "source": [
    "df.attacking_work_rate.value_counts()"
   ]
  },
  {
   "cell_type": "code",
   "execution_count": 14,
   "metadata": {},
   "outputs": [
    {
     "data": {
      "text/plain": [
       "medium    130846\n",
       "high       27041\n",
       "low        18432\n",
       "o           1328\n",
       "1            421\n",
       "2            334\n",
       "ormal        317\n",
       "3            243\n",
       "5            231\n",
       "7            207\n",
       "0            188\n",
       "6            179\n",
       "9            143\n",
       "4            116\n",
       "es            94\n",
       "tocky         86\n",
       "ean           78\n",
       "8             70\n",
       "Name: defensive_work_rate, dtype: int64"
      ]
     },
     "execution_count": 14,
     "metadata": {},
     "output_type": "execute_result"
    }
   ],
   "source": [
    "df.defensive_work_rate.value_counts()"
   ]
  },
  {
   "cell_type": "code",
   "execution_count": 15,
   "metadata": {},
   "outputs": [
    {
     "data": {
      "text/plain": [
       "2007-02-22 00:00:00    10410\n",
       "2011-08-30 00:00:00     6520\n",
       "2015-09-21 00:00:00     6518\n",
       "2013-09-20 00:00:00     6513\n",
       "2012-08-31 00:00:00     6491\n",
       "2014-09-18 00:00:00     6429\n",
       "2013-02-15 00:00:00     6373\n",
       "2010-08-30 00:00:00     6232\n",
       "2012-02-22 00:00:00     6134\n",
       "2011-02-22 00:00:00     5340\n",
       "Name: date, dtype: int64"
      ]
     },
     "execution_count": 15,
     "metadata": {},
     "output_type": "execute_result"
    }
   ],
   "source": [
    "df.date.value_counts().head(10)"
   ]
  },
  {
   "cell_type": "code",
   "execution_count": 16,
   "metadata": {},
   "outputs": [],
   "source": [
    "df = df.join(pd.get_dummies(df.preferred_foot, drop_first=True, prefix='ply'))"
   ]
  },
  {
   "cell_type": "code",
   "execution_count": 17,
   "metadata": {},
   "outputs": [],
   "source": [
    "df = df.join(pd.get_dummies(df.attacking_work_rate, drop_first=True, prefix='ply'))"
   ]
  },
  {
   "cell_type": "code",
   "execution_count": 18,
   "metadata": {},
   "outputs": [],
   "source": [
    "df = df.join(pd.get_dummies(df.defensive_work_rate, drop_first=True, prefix='plyd'))"
   ]
  },
  {
   "cell_type": "code",
   "execution_count": 19,
   "metadata": {},
   "outputs": [
    {
     "data": {
      "text/html": [
       "<div>\n",
       "<style scoped>\n",
       "    .dataframe tbody tr th:only-of-type {\n",
       "        vertical-align: middle;\n",
       "    }\n",
       "\n",
       "    .dataframe tbody tr th {\n",
       "        vertical-align: top;\n",
       "    }\n",
       "\n",
       "    .dataframe thead th {\n",
       "        text-align: right;\n",
       "    }\n",
       "</style>\n",
       "<table border=\"1\" class=\"dataframe\">\n",
       "  <thead>\n",
       "    <tr style=\"text-align: right;\">\n",
       "      <th></th>\n",
       "      <th>id</th>\n",
       "      <th>player_fifa_api_id</th>\n",
       "      <th>player_api_id</th>\n",
       "      <th>date</th>\n",
       "      <th>overall_rating</th>\n",
       "      <th>potential</th>\n",
       "      <th>preferred_foot</th>\n",
       "      <th>attacking_work_rate</th>\n",
       "      <th>defensive_work_rate</th>\n",
       "      <th>crossing</th>\n",
       "      <th>...</th>\n",
       "      <th>plyd_8</th>\n",
       "      <th>plyd_9</th>\n",
       "      <th>plyd_ean</th>\n",
       "      <th>plyd_es</th>\n",
       "      <th>plyd_high</th>\n",
       "      <th>plyd_low</th>\n",
       "      <th>plyd_medium</th>\n",
       "      <th>plyd_o</th>\n",
       "      <th>plyd_ormal</th>\n",
       "      <th>plyd_tocky</th>\n",
       "    </tr>\n",
       "  </thead>\n",
       "  <tbody>\n",
       "    <tr>\n",
       "      <th>0</th>\n",
       "      <td>1</td>\n",
       "      <td>218353</td>\n",
       "      <td>505942</td>\n",
       "      <td>2016-02-18 00:00:00</td>\n",
       "      <td>67.0</td>\n",
       "      <td>71.0</td>\n",
       "      <td>right</td>\n",
       "      <td>medium</td>\n",
       "      <td>medium</td>\n",
       "      <td>49.0</td>\n",
       "      <td>...</td>\n",
       "      <td>0</td>\n",
       "      <td>0</td>\n",
       "      <td>0</td>\n",
       "      <td>0</td>\n",
       "      <td>0</td>\n",
       "      <td>0</td>\n",
       "      <td>1</td>\n",
       "      <td>0</td>\n",
       "      <td>0</td>\n",
       "      <td>0</td>\n",
       "    </tr>\n",
       "    <tr>\n",
       "      <th>1</th>\n",
       "      <td>2</td>\n",
       "      <td>218353</td>\n",
       "      <td>505942</td>\n",
       "      <td>2015-11-19 00:00:00</td>\n",
       "      <td>67.0</td>\n",
       "      <td>71.0</td>\n",
       "      <td>right</td>\n",
       "      <td>medium</td>\n",
       "      <td>medium</td>\n",
       "      <td>49.0</td>\n",
       "      <td>...</td>\n",
       "      <td>0</td>\n",
       "      <td>0</td>\n",
       "      <td>0</td>\n",
       "      <td>0</td>\n",
       "      <td>0</td>\n",
       "      <td>0</td>\n",
       "      <td>1</td>\n",
       "      <td>0</td>\n",
       "      <td>0</td>\n",
       "      <td>0</td>\n",
       "    </tr>\n",
       "    <tr>\n",
       "      <th>2</th>\n",
       "      <td>3</td>\n",
       "      <td>218353</td>\n",
       "      <td>505942</td>\n",
       "      <td>2015-09-21 00:00:00</td>\n",
       "      <td>62.0</td>\n",
       "      <td>66.0</td>\n",
       "      <td>right</td>\n",
       "      <td>medium</td>\n",
       "      <td>medium</td>\n",
       "      <td>49.0</td>\n",
       "      <td>...</td>\n",
       "      <td>0</td>\n",
       "      <td>0</td>\n",
       "      <td>0</td>\n",
       "      <td>0</td>\n",
       "      <td>0</td>\n",
       "      <td>0</td>\n",
       "      <td>1</td>\n",
       "      <td>0</td>\n",
       "      <td>0</td>\n",
       "      <td>0</td>\n",
       "    </tr>\n",
       "    <tr>\n",
       "      <th>3</th>\n",
       "      <td>4</td>\n",
       "      <td>218353</td>\n",
       "      <td>505942</td>\n",
       "      <td>2015-03-20 00:00:00</td>\n",
       "      <td>61.0</td>\n",
       "      <td>65.0</td>\n",
       "      <td>right</td>\n",
       "      <td>medium</td>\n",
       "      <td>medium</td>\n",
       "      <td>48.0</td>\n",
       "      <td>...</td>\n",
       "      <td>0</td>\n",
       "      <td>0</td>\n",
       "      <td>0</td>\n",
       "      <td>0</td>\n",
       "      <td>0</td>\n",
       "      <td>0</td>\n",
       "      <td>1</td>\n",
       "      <td>0</td>\n",
       "      <td>0</td>\n",
       "      <td>0</td>\n",
       "    </tr>\n",
       "    <tr>\n",
       "      <th>4</th>\n",
       "      <td>5</td>\n",
       "      <td>218353</td>\n",
       "      <td>505942</td>\n",
       "      <td>2007-02-22 00:00:00</td>\n",
       "      <td>61.0</td>\n",
       "      <td>65.0</td>\n",
       "      <td>right</td>\n",
       "      <td>medium</td>\n",
       "      <td>medium</td>\n",
       "      <td>48.0</td>\n",
       "      <td>...</td>\n",
       "      <td>0</td>\n",
       "      <td>0</td>\n",
       "      <td>0</td>\n",
       "      <td>0</td>\n",
       "      <td>0</td>\n",
       "      <td>0</td>\n",
       "      <td>1</td>\n",
       "      <td>0</td>\n",
       "      <td>0</td>\n",
       "      <td>0</td>\n",
       "    </tr>\n",
       "  </tbody>\n",
       "</table>\n",
       "<p>5 rows × 67 columns</p>\n",
       "</div>"
      ],
      "text/plain": [
       "   id  player_fifa_api_id  player_api_id                 date  overall_rating  \\\n",
       "0   1              218353         505942  2016-02-18 00:00:00            67.0   \n",
       "1   2              218353         505942  2015-11-19 00:00:00            67.0   \n",
       "2   3              218353         505942  2015-09-21 00:00:00            62.0   \n",
       "3   4              218353         505942  2015-03-20 00:00:00            61.0   \n",
       "4   5              218353         505942  2007-02-22 00:00:00            61.0   \n",
       "\n",
       "   potential preferred_foot attacking_work_rate defensive_work_rate  crossing  \\\n",
       "0       71.0          right              medium              medium      49.0   \n",
       "1       71.0          right              medium              medium      49.0   \n",
       "2       66.0          right              medium              medium      49.0   \n",
       "3       65.0          right              medium              medium      48.0   \n",
       "4       65.0          right              medium              medium      48.0   \n",
       "\n",
       "      ...      plyd_8  plyd_9  plyd_ean  plyd_es  plyd_high  plyd_low  \\\n",
       "0     ...           0       0         0        0          0         0   \n",
       "1     ...           0       0         0        0          0         0   \n",
       "2     ...           0       0         0        0          0         0   \n",
       "3     ...           0       0         0        0          0         0   \n",
       "4     ...           0       0         0        0          0         0   \n",
       "\n",
       "   plyd_medium  plyd_o  plyd_ormal  plyd_tocky  \n",
       "0            1       0           0           0  \n",
       "1            1       0           0           0  \n",
       "2            1       0           0           0  \n",
       "3            1       0           0           0  \n",
       "4            1       0           0           0  \n",
       "\n",
       "[5 rows x 67 columns]"
      ]
     },
     "execution_count": 19,
     "metadata": {},
     "output_type": "execute_result"
    }
   ],
   "source": [
    "df.head()"
   ]
  },
  {
   "cell_type": "code",
   "execution_count": 20,
   "metadata": {},
   "outputs": [],
   "source": [
    "X = df.drop(['id', 'overall_rating','date','preferred_foot','attacking_work_rate','defensive_work_rate'], axis = 1)\n",
    "y = df['overall_rating']"
   ]
  },
  {
   "cell_type": "code",
   "execution_count": 21,
   "metadata": {},
   "outputs": [],
   "source": [
    "train_x, test_x, train_y, test_y = train_test_split(X, y, test_size = 0.3, random_state = 10)"
   ]
  },
  {
   "cell_type": "code",
   "execution_count": 22,
   "metadata": {},
   "outputs": [
    {
     "name": "stdout",
     "output_type": "stream",
     "text": [
      "(126247, 61) (126247,) (54107, 61) (54107,)\n"
     ]
    }
   ],
   "source": [
    "print(train_x.shape, train_y.shape, test_x.shape, test_y.shape)"
   ]
  },
  {
   "cell_type": "code",
   "execution_count": 23,
   "metadata": {},
   "outputs": [
    {
     "data": {
      "text/plain": [
       "(array([-8.67700275e-06, -6.36560974e-06,  4.46323082e-01,  6.92523702e-03,\n",
       "         1.46195984e-02,  5.52599843e-02,  5.62501995e-02, -7.20720881e-03,\n",
       "         9.33139754e-03,  1.26545227e-02,  7.09800922e-03,  1.02624961e-02,\n",
       "         1.12202445e-01,  1.16468861e-02,  1.48955017e-02, -1.02116102e-02,\n",
       "         1.76349586e-01,  4.62235047e-03,  1.34193914e-02,  1.16064044e-02,\n",
       "        -2.11384662e-03,  5.12045126e-02, -1.12100827e-02,  1.07405840e-02,\n",
       "         3.74910384e-03, -6.47657862e-03, -1.81667444e-02,  9.50363880e-03,\n",
       "         2.54755142e-02,  7.31330318e-03, -1.85146573e-02,  1.58000526e-01,\n",
       "         2.54729570e-02, -4.66410587e-02,  4.81108227e-02,  1.92010321e-02,\n",
       "        -4.18141123e-03,  2.51598886e-01, -9.69408665e-01,  1.13358422e+00,\n",
       "         8.78359528e-02, -5.03736726e-01, -1.27452178e+00, -4.41658435e-01,\n",
       "         7.52740400e-01, -3.73042250e-01, -5.36409604e-02, -7.84784934e-01,\n",
       "        -4.49559612e-01, -1.54797828e-01,  2.33796390e-01,  1.61456924e-01,\n",
       "         2.97755496e-02, -9.69408665e-01, -4.41658435e-01, -2.13296173e-01,\n",
       "        -1.81696600e-02, -4.63483676e-01, -9.78866754e-01, -5.03736726e-01,\n",
       "        -1.27452178e+00]), 0.7516050292766892)"
      ]
     },
     "execution_count": 23,
     "metadata": {},
     "output_type": "execute_result"
    }
   ],
   "source": [
    "lm = LinearRegression()\n",
    "lm.fit(train_x, train_y)\n",
    "lm.coef_, lm.intercept_"
   ]
  },
  {
   "cell_type": "code",
   "execution_count": 24,
   "metadata": {},
   "outputs": [
    {
     "data": {
      "text/plain": [
       "0.8610955865320222"
      ]
     },
     "execution_count": 24,
     "metadata": {},
     "output_type": "execute_result"
    }
   ],
   "source": [
    "lm.score(train_x, train_y)"
   ]
  },
  {
   "cell_type": "code",
   "execution_count": 25,
   "metadata": {},
   "outputs": [
    {
     "data": {
      "text/plain": [
       "0.8599639980991889"
      ]
     },
     "execution_count": 25,
     "metadata": {},
     "output_type": "execute_result"
    }
   ],
   "source": [
    "lm.score(test_x, test_y)"
   ]
  },
  {
   "cell_type": "code",
   "execution_count": 26,
   "metadata": {},
   "outputs": [
    {
     "data": {
      "text/plain": [
       "array([63.2059719 , 67.62769856, 68.84906321, ..., 56.64718924,\n",
       "       61.34897056, 65.52773542])"
      ]
     },
     "execution_count": 26,
     "metadata": {},
     "output_type": "execute_result"
    }
   ],
   "source": [
    "train_pred = lm.predict(train_x)\n",
    "train_pred"
   ]
  },
  {
   "cell_type": "code",
   "execution_count": 27,
   "metadata": {},
   "outputs": [
    {
     "data": {
      "text/plain": [
       "array([74.26656354, 74.1964708 , 65.3576554 , ..., 66.59094599,\n",
       "       77.47972293, 64.09919368])"
      ]
     },
     "execution_count": 27,
     "metadata": {},
     "output_type": "execute_result"
    }
   ],
   "source": [
    "test_pred = lm.predict(test_x)\n",
    "test_pred"
   ]
  },
  {
   "cell_type": "code",
   "execution_count": 28,
   "metadata": {},
   "outputs": [
    {
     "data": {
      "text/plain": [
       "<matplotlib.legend.Legend at 0x228eb4625c0>"
      ]
     },
     "execution_count": 28,
     "metadata": {},
     "output_type": "execute_result"
    },
    {
     "data": {
      "image/png": "[encoded data removed]",
      "text/plain": [
       "<Figure size 432x288 with 1 Axes>"
      ]
     },
     "metadata": {
      "needs_background": "light"
     },
     "output_type": "display_data"
    }
   ],
   "source": [
    "plt.hist(train_y, label='train_y')\n",
    "plt.hist(lm.predict(train_x), label='train_pred')\n",
    "plt.legend()"
   ]
  },
  {
   "cell_type": "code",
   "execution_count": 29,
   "metadata": {},
   "outputs": [
    {
     "data": {
      "text/plain": [
       "<matplotlib.legend.Legend at 0x228ec3f5518>"
      ]
     },
     "execution_count": 29,
     "metadata": {},
     "output_type": "execute_result"
    },
    {
     "data": {
      "image/png": "[encoded data removed]",
      "text/plain": [
       "<Figure size 432x288 with 1 Axes>"
      ]
     },
     "metadata": {
      "needs_background": "light"
     },
     "output_type": "display_data"
    }
   ],
   "source": [
    "plt.hist(test_y, label='test_y')\n",
    "plt.hist(lm.predict(test_x), label='test_pred')\n",
    "plt.legend()"
   ]
  },
  {
   "cell_type": "code",
   "execution_count": 30,
   "metadata": {},
   "outputs": [
    {
     "name": "stdout",
     "output_type": "stream",
     "text": [
      "RMSE Train : 2.6146858335061616\n",
      "RMSE Test : 2.6407214484721555\n"
     ]
    }
   ],
   "source": [
    "print('RMSE Train :',sqrt(mean_squared_error(train_y, train_pred)))\n",
    "print('RMSE Test :',sqrt(mean_squared_error(test_y, test_pred)))"
   ]
  },
  {
   "cell_type": "code",
   "execution_count": 31,
   "metadata": {},
   "outputs": [
    {
     "data": {
      "text/plain": [
       "<matplotlib.collections.PathCollection at 0x228eedea160>"
      ]
     },
     "execution_count": 31,
     "metadata": {},
     "output_type": "execute_result"
    },
    {
     "data": {
      "image/png": "[encoded data removed]",
      "text/plain": [
       "<Figure size 432x288 with 1 Axes>"
      ]
     },
     "metadata": {
      "needs_background": "light"
     },
     "output_type": "display_data"
    }
   ],
   "source": [
    "plt.scatter(train_y, train_pred)"
   ]
  },
  {
   "cell_type": "code",
   "execution_count": 32,
   "metadata": {},
   "outputs": [
    {
     "data": {
      "text/plain": [
       "<matplotlib.collections.PathCollection at 0x228eefeeef0>"
      ]
     },
     "execution_count": 32,
     "metadata": {},
     "output_type": "execute_result"
    },
    {
     "data": {
      "image/png": "[encoded data removed]",
      "text/plain": [
       "<Figure size 432x288 with 1 Axes>"
      ]
     },
     "metadata": {
      "needs_background": "light"
     },
     "output_type": "display_data"
    }
   ],
   "source": [
    "plt.scatter(test_y, test_pred)"
   ]
  },
  {
   "cell_type": "code",
   "execution_count": 33,
   "metadata": {},
   "outputs": [
    {
     "data": {
      "text/plain": [
       "(array([1.0000e+00, 2.0000e+00, 2.0000e+00, 8.0000e+00, 1.2000e+01,\n",
       "        3.4000e+01, 1.0900e+02, 1.7800e+02, 6.2700e+02, 1.7740e+03,\n",
       "        5.5940e+03, 1.6023e+04, 3.5347e+04, 3.8964e+04, 2.0205e+04,\n",
       "        5.9320e+03, 1.1780e+03, 1.9800e+02, 4.4000e+01, 1.5000e+01]),\n",
       " array([-25.20210224, -23.26733493, -21.33256762, -19.39780031,\n",
       "        -17.463033  , -15.52826569, -13.59349838, -11.65873107,\n",
       "         -9.72396375,  -7.78919644,  -5.85442913,  -3.91966182,\n",
       "         -1.98489451,  -0.0501272 ,   1.88464011,   3.81940742,\n",
       "          5.75417474,   7.68894205,   9.62370936,  11.55847667,\n",
       "         13.49324398]),\n",
       " <a list of 20 Patch objects>)"
      ]
     },
     "execution_count": 33,
     "metadata": {},
     "output_type": "execute_result"
    },
    {
     "data": {
      "image/png": "[encoded data removed]",
      "text/plain": [
       "<Figure size 432x288 with 1 Axes>"
      ]
     },
     "metadata": {
      "needs_background": "light"
     },
     "output_type": "display_data"
    }
   ],
   "source": [
    "plt.hist(train_y - train_pred, bins = 20)"
   ]
  },
  {
   "cell_type": "code",
   "execution_count": 34,
   "metadata": {},
   "outputs": [
    {
     "data": {
      "text/plain": [
       "(array([3.0000e+00, 1.0000e+00, 2.0000e+00, 8.0000e+00, 1.4000e+01,\n",
       "        5.2000e+01, 8.5000e+01, 2.9000e+02, 6.6300e+02, 1.7900e+03,\n",
       "        4.9630e+03, 1.1884e+04, 1.6627e+04, 1.1633e+04, 4.5250e+03,\n",
       "        1.2220e+03, 2.7800e+02, 3.3000e+01, 2.7000e+01, 7.0000e+00]),\n",
       " array([-22.31361794, -20.50908791, -18.70455788, -16.90002786,\n",
       "        -15.09549783, -13.2909678 , -11.48643777,  -9.68190774,\n",
       "         -7.87737771,  -6.07284769,  -4.26831766,  -2.46378763,\n",
       "         -0.6592576 ,   1.14527243,   2.94980246,   4.75433248,\n",
       "          6.55886251,   8.36339254,  10.16792257,  11.9724526 ,\n",
       "         13.77698263]),\n",
       " <a list of 20 Patch objects>)"
      ]
     },
     "execution_count": 34,
     "metadata": {},
     "output_type": "execute_result"
    },
    {
     "data": {
      "image/png": "[encoded data removed]",
      "text/plain": [
       "<Figure size 432x288 with 1 Axes>"
      ]
     },
     "metadata": {
      "needs_background": "light"
     },
     "output_type": "display_data"
    }
   ],
   "source": [
    "plt.hist(test_y - test_pred, bins=20)"
   ]
  },
  {
   "cell_type": "markdown",
   "metadata": {},
   "source": [
    "- Using **OLS model**"
   ]
  },
  {
   "cell_type": "code",
   "execution_count": 35,
   "metadata": {},
   "outputs": [],
   "source": [
    "import statsmodels.formula.api as smf"
   ]
  },
  {
   "cell_type": "code",
   "execution_count": 36,
   "metadata": {},
   "outputs": [
    {
     "data": {
      "text/html": [
       "<table class=\"simpletable\">\n",
       "<caption>OLS Regression Results</caption>\n",
       "<tr>\n",
       "  <th>Dep. Variable:</th>     <td>overall_rating</td>  <th>  R-squared:         </th>  <td>   0.861</td>  \n",
       "</tr>\n",
       "<tr>\n",
       "  <th>Model:</th>                   <td>OLS</td>       <th>  Adj. R-squared:    </th>  <td>   0.861</td>  \n",
       "</tr>\n",
       "<tr>\n",
       "  <th>Method:</th>             <td>Least Squares</td>  <th>  F-statistic:       </th>  <td>1.956e+04</td> \n",
       "</tr>\n",
       "<tr>\n",
       "  <th>Date:</th>             <td>Mon, 20 May 2019</td> <th>  Prob (F-statistic):</th>   <td>  0.00</td>   \n",
       "</tr>\n",
       "<tr>\n",
       "  <th>Time:</th>                 <td>01:53:38</td>     <th>  Log-Likelihood:    </th> <td>-4.2978e+05</td>\n",
       "</tr>\n",
       "<tr>\n",
       "  <th>No. Observations:</th>      <td>180354</td>      <th>  AIC:               </th>  <td>8.597e+05</td> \n",
       "</tr>\n",
       "<tr>\n",
       "  <th>Df Residuals:</th>          <td>180296</td>      <th>  BIC:               </th>  <td>8.603e+05</td> \n",
       "</tr>\n",
       "<tr>\n",
       "  <th>Df Model:</th>              <td>    57</td>      <th>                     </th>      <td> </td>     \n",
       "</tr>\n",
       "<tr>\n",
       "  <th>Covariance Type:</th>      <td>nonrobust</td>    <th>                     </th>      <td> </td>     \n",
       "</tr>\n",
       "</table>\n",
       "<table class=\"simpletable\">\n",
       "<tr>\n",
       "           <td></td>             <th>coef</th>     <th>std err</th>      <th>t</th>      <th>P>|t|</th>  <th>[0.025</th>    <th>0.975]</th>  \n",
       "</tr>\n",
       "<tr>\n",
       "  <th>Intercept</th>          <td>    0.7025</td> <td>    0.214</td> <td>    3.276</td> <td> 0.001</td> <td>    0.282</td> <td>    1.123</td>\n",
       "</tr>\n",
       "<tr>\n",
       "  <th>player_fifa_api_id</th> <td>-8.729e-06</td> <td> 1.53e-07</td> <td>  -57.122</td> <td> 0.000</td> <td>-9.03e-06</td> <td>-8.43e-06</td>\n",
       "</tr>\n",
       "<tr>\n",
       "  <th>player_api_id</th>      <td>-6.342e-06</td> <td> 6.14e-08</td> <td> -103.313</td> <td> 0.000</td> <td>-6.46e-06</td> <td>-6.22e-06</td>\n",
       "</tr>\n",
       "<tr>\n",
       "  <th>potential</th>          <td>    0.4459</td> <td>    0.001</td> <td>  304.990</td> <td> 0.000</td> <td>    0.443</td> <td>    0.449</td>\n",
       "</tr>\n",
       "<tr>\n",
       "  <th>crossing</th>           <td>    0.0067</td> <td>    0.001</td> <td>    8.368</td> <td> 0.000</td> <td>    0.005</td> <td>    0.008</td>\n",
       "</tr>\n",
       "<tr>\n",
       "  <th>finishing</th>          <td>    0.0151</td> <td>    0.001</td> <td>   17.326</td> <td> 0.000</td> <td>    0.013</td> <td>    0.017</td>\n",
       "</tr>\n",
       "<tr>\n",
       "  <th>heading_accuracy</th>   <td>    0.0560</td> <td>    0.001</td> <td>   72.182</td> <td> 0.000</td> <td>    0.054</td> <td>    0.058</td>\n",
       "</tr>\n",
       "<tr>\n",
       "  <th>short_passing</th>      <td>    0.0565</td> <td>    0.001</td> <td>   43.374</td> <td> 0.000</td> <td>    0.054</td> <td>    0.059</td>\n",
       "</tr>\n",
       "<tr>\n",
       "  <th>volleys</th>            <td>   -0.0068</td> <td>    0.001</td> <td>   -8.667</td> <td> 0.000</td> <td>   -0.008</td> <td>   -0.005</td>\n",
       "</tr>\n",
       "<tr>\n",
       "  <th>dribbling</th>          <td>    0.0096</td> <td>    0.001</td> <td>    8.670</td> <td> 0.000</td> <td>    0.007</td> <td>    0.012</td>\n",
       "</tr>\n",
       "<tr>\n",
       "  <th>curve</th>              <td>    0.0116</td> <td>    0.001</td> <td>   15.403</td> <td> 0.000</td> <td>    0.010</td> <td>    0.013</td>\n",
       "</tr>\n",
       "<tr>\n",
       "  <th>free_kick_accuracy</th> <td>    0.0079</td> <td>    0.001</td> <td>   11.724</td> <td> 0.000</td> <td>    0.007</td> <td>    0.009</td>\n",
       "</tr>\n",
       "<tr>\n",
       "  <th>long_passing</th>       <td>    0.0102</td> <td>    0.001</td> <td>   11.499</td> <td> 0.000</td> <td>    0.008</td> <td>    0.012</td>\n",
       "</tr>\n",
       "<tr>\n",
       "  <th>ball_control</th>       <td>    0.1123</td> <td>    0.002</td> <td>   74.692</td> <td> 0.000</td> <td>    0.109</td> <td>    0.115</td>\n",
       "</tr>\n",
       "<tr>\n",
       "  <th>acceleration</th>       <td>    0.0119</td> <td>    0.001</td> <td>    9.144</td> <td> 0.000</td> <td>    0.009</td> <td>    0.014</td>\n",
       "</tr>\n",
       "<tr>\n",
       "  <th>sprint_speed</th>       <td>    0.0159</td> <td>    0.001</td> <td>   12.854</td> <td> 0.000</td> <td>    0.013</td> <td>    0.018</td>\n",
       "</tr>\n",
       "<tr>\n",
       "  <th>agility</th>            <td>   -0.0117</td> <td>    0.001</td> <td>  -12.205</td> <td> 0.000</td> <td>   -0.014</td> <td>   -0.010</td>\n",
       "</tr>\n",
       "<tr>\n",
       "  <th>reactions</th>          <td>    0.1760</td> <td>    0.001</td> <td>  168.048</td> <td> 0.000</td> <td>    0.174</td> <td>    0.178</td>\n",
       "</tr>\n",
       "<tr>\n",
       "  <th>balance</th>            <td>    0.0048</td> <td>    0.001</td> <td>    6.499</td> <td> 0.000</td> <td>    0.003</td> <td>    0.006</td>\n",
       "</tr>\n",
       "<tr>\n",
       "  <th>shot_power</th>         <td>    0.0133</td> <td>    0.001</td> <td>   16.030</td> <td> 0.000</td> <td>    0.012</td> <td>    0.015</td>\n",
       "</tr>\n",
       "<tr>\n",
       "  <th>jumping</th>            <td>    0.0112</td> <td>    0.001</td> <td>   16.270</td> <td> 0.000</td> <td>    0.010</td> <td>    0.013</td>\n",
       "</tr>\n",
       "<tr>\n",
       "  <th>stamina</th>            <td>   -0.0017</td> <td>    0.001</td> <td>   -2.124</td> <td> 0.034</td> <td>   -0.003</td> <td>   -0.000</td>\n",
       "</tr>\n",
       "<tr>\n",
       "  <th>strength</th>           <td>    0.0503</td> <td>    0.001</td> <td>   63.238</td> <td> 0.000</td> <td>    0.049</td> <td>    0.052</td>\n",
       "</tr>\n",
       "<tr>\n",
       "  <th>long_shots</th>         <td>   -0.0115</td> <td>    0.001</td> <td>  -13.277</td> <td> 0.000</td> <td>   -0.013</td> <td>   -0.010</td>\n",
       "</tr>\n",
       "<tr>\n",
       "  <th>aggression</th>         <td>    0.0111</td> <td>    0.001</td> <td>   16.987</td> <td> 0.000</td> <td>    0.010</td> <td>    0.012</td>\n",
       "</tr>\n",
       "<tr>\n",
       "  <th>interceptions</th>      <td>    0.0034</td> <td>    0.001</td> <td>    4.910</td> <td> 0.000</td> <td>    0.002</td> <td>    0.005</td>\n",
       "</tr>\n",
       "<tr>\n",
       "  <th>positioning</th>        <td>   -0.0065</td> <td>    0.001</td> <td>   -8.698</td> <td> 0.000</td> <td>   -0.008</td> <td>   -0.005</td>\n",
       "</tr>\n",
       "<tr>\n",
       "  <th>vision</th>             <td>   -0.0174</td> <td>    0.001</td> <td>  -20.850</td> <td> 0.000</td> <td>   -0.019</td> <td>   -0.016</td>\n",
       "</tr>\n",
       "<tr>\n",
       "  <th>penalties</th>          <td>    0.0084</td> <td>    0.001</td> <td>   11.850</td> <td> 0.000</td> <td>    0.007</td> <td>    0.010</td>\n",
       "</tr>\n",
       "<tr>\n",
       "  <th>marking</th>            <td>    0.0260</td> <td>    0.001</td> <td>   24.507</td> <td> 0.000</td> <td>    0.024</td> <td>    0.028</td>\n",
       "</tr>\n",
       "<tr>\n",
       "  <th>standing_tackle</th>    <td>    0.0071</td> <td>    0.001</td> <td>    5.817</td> <td> 0.000</td> <td>    0.005</td> <td>    0.010</td>\n",
       "</tr>\n",
       "<tr>\n",
       "  <th>sliding_tackle</th>     <td>   -0.0185</td> <td>    0.001</td> <td>  -17.721</td> <td> 0.000</td> <td>   -0.021</td> <td>   -0.016</td>\n",
       "</tr>\n",
       "<tr>\n",
       "  <th>gk_diving</th>          <td>    0.1588</td> <td>    0.001</td> <td>  114.721</td> <td> 0.000</td> <td>    0.156</td> <td>    0.161</td>\n",
       "</tr>\n",
       "<tr>\n",
       "  <th>gk_handling</th>        <td>    0.0254</td> <td>    0.002</td> <td>   14.053</td> <td> 0.000</td> <td>    0.022</td> <td>    0.029</td>\n",
       "</tr>\n",
       "<tr>\n",
       "  <th>gk_kicking</th>         <td>   -0.0461</td> <td>    0.001</td> <td>  -77.112</td> <td> 0.000</td> <td>   -0.047</td> <td>   -0.045</td>\n",
       "</tr>\n",
       "<tr>\n",
       "  <th>gk_positioning</th>     <td>    0.0472</td> <td>    0.002</td> <td>   26.182</td> <td> 0.000</td> <td>    0.044</td> <td>    0.051</td>\n",
       "</tr>\n",
       "<tr>\n",
       "  <th>gk_reflexes</th>        <td>    0.0201</td> <td>    0.002</td> <td>   11.374</td> <td> 0.000</td> <td>    0.017</td> <td>    0.024</td>\n",
       "</tr>\n",
       "<tr>\n",
       "  <th>ply_right</th>          <td>   -0.0013</td> <td>    0.015</td> <td>   -0.090</td> <td> 0.929</td> <td>   -0.031</td> <td>    0.028</td>\n",
       "</tr>\n",
       "<tr>\n",
       "  <th>ply_high</th>           <td>    0.2559</td> <td>    0.131</td> <td>    1.955</td> <td> 0.051</td> <td>   -0.001</td> <td>    0.512</td>\n",
       "</tr>\n",
       "<tr>\n",
       "  <th>ply_le</th>             <td>   -0.9143</td> <td>    0.177</td> <td>   -5.166</td> <td> 0.000</td> <td>   -1.261</td> <td>   -0.567</td>\n",
       "</tr>\n",
       "<tr>\n",
       "  <th>ply_low</th>            <td>    1.0934</td> <td>    0.133</td> <td>    8.220</td> <td> 0.000</td> <td>    0.833</td> <td>    1.354</td>\n",
       "</tr>\n",
       "<tr>\n",
       "  <th>ply_medium</th>         <td>    0.1003</td> <td>    0.130</td> <td>    0.770</td> <td> 0.441</td> <td>   -0.155</td> <td>    0.356</td>\n",
       "</tr>\n",
       "<tr>\n",
       "  <th>ply_norm</th>           <td>   -0.3853</td> <td>    0.121</td> <td>   -3.180</td> <td> 0.001</td> <td>   -0.623</td> <td>   -0.148</td>\n",
       "</tr>\n",
       "<tr>\n",
       "  <th>ply_stoc</th>           <td>   -1.1011</td> <td>    0.171</td> <td>   -6.435</td> <td> 0.000</td> <td>   -1.436</td> <td>   -0.766</td>\n",
       "</tr>\n",
       "<tr>\n",
       "  <th>ply_y</th>              <td>   -0.4702</td> <td>    0.166</td> <td>   -2.828</td> <td> 0.005</td> <td>   -0.796</td> <td>   -0.144</td>\n",
       "</tr>\n",
       "<tr>\n",
       "  <th>plyd_1</th>             <td>    0.6763</td> <td>    0.230</td> <td>    2.936</td> <td> 0.003</td> <td>    0.225</td> <td>    1.128</td>\n",
       "</tr>\n",
       "<tr>\n",
       "  <th>plyd_2</th>             <td>   -0.3644</td> <td>    0.240</td> <td>   -1.516</td> <td> 0.129</td> <td>   -0.835</td> <td>    0.107</td>\n",
       "</tr>\n",
       "<tr>\n",
       "  <th>plyd_3</th>             <td>    0.1048</td> <td>    0.255</td> <td>    0.411</td> <td> 0.681</td> <td>   -0.395</td> <td>    0.605</td>\n",
       "</tr>\n",
       "<tr>\n",
       "  <th>plyd_4</th>             <td>   -0.8487</td> <td>    0.310</td> <td>   -2.734</td> <td> 0.006</td> <td>   -1.457</td> <td>   -0.240</td>\n",
       "</tr>\n",
       "<tr>\n",
       "  <th>plyd_5</th>             <td>   -0.4484</td> <td>    0.258</td> <td>   -1.739</td> <td> 0.082</td> <td>   -0.954</td> <td>    0.057</td>\n",
       "</tr>\n",
       "<tr>\n",
       "  <th>plyd_6</th>             <td>   -0.2528</td> <td>    0.275</td> <td>   -0.921</td> <td> 0.357</td> <td>   -0.791</td> <td>    0.285</td>\n",
       "</tr>\n",
       "<tr>\n",
       "  <th>plyd_7</th>             <td>    0.2697</td> <td>    0.265</td> <td>    1.019</td> <td> 0.308</td> <td>   -0.249</td> <td>    0.788</td>\n",
       "</tr>\n",
       "<tr>\n",
       "  <th>plyd_8</th>             <td>    0.0015</td> <td>    0.368</td> <td>    0.004</td> <td> 0.997</td> <td>   -0.719</td> <td>    0.722</td>\n",
       "</tr>\n",
       "<tr>\n",
       "  <th>plyd_9</th>             <td>    0.1856</td> <td>    0.291</td> <td>    0.637</td> <td> 0.524</td> <td>   -0.386</td> <td>    0.757</td>\n",
       "</tr>\n",
       "<tr>\n",
       "  <th>plyd_ean</th>           <td>   -0.9143</td> <td>    0.177</td> <td>   -5.166</td> <td> 0.000</td> <td>   -1.261</td> <td>   -0.567</td>\n",
       "</tr>\n",
       "<tr>\n",
       "  <th>plyd_es</th>            <td>   -0.4702</td> <td>    0.166</td> <td>   -2.828</td> <td> 0.005</td> <td>   -0.796</td> <td>   -0.144</td>\n",
       "</tr>\n",
       "<tr>\n",
       "  <th>plyd_high</th>          <td>   -0.1699</td> <td>    0.225</td> <td>   -0.757</td> <td> 0.449</td> <td>   -0.610</td> <td>    0.270</td>\n",
       "</tr>\n",
       "<tr>\n",
       "  <th>plyd_low</th>           <td>    0.0526</td> <td>    0.225</td> <td>    0.234</td> <td> 0.815</td> <td>   -0.389</td> <td>    0.494</td>\n",
       "</tr>\n",
       "<tr>\n",
       "  <th>plyd_medium</th>        <td>   -0.3943</td> <td>    0.224</td> <td>   -1.759</td> <td> 0.079</td> <td>   -0.834</td> <td>    0.045</td>\n",
       "</tr>\n",
       "<tr>\n",
       "  <th>plyd_o</th>             <td>   -0.7993</td> <td>    0.205</td> <td>   -3.891</td> <td> 0.000</td> <td>   -1.202</td> <td>   -0.397</td>\n",
       "</tr>\n",
       "<tr>\n",
       "  <th>plyd_ormal</th>         <td>   -0.3853</td> <td>    0.121</td> <td>   -3.180</td> <td> 0.001</td> <td>   -0.623</td> <td>   -0.148</td>\n",
       "</tr>\n",
       "<tr>\n",
       "  <th>plyd_tocky</th>         <td>   -1.1011</td> <td>    0.171</td> <td>   -6.435</td> <td> 0.000</td> <td>   -1.436</td> <td>   -0.766</td>\n",
       "</tr>\n",
       "</table>\n",
       "<table class=\"simpletable\">\n",
       "<tr>\n",
       "  <th>Omnibus:</th>       <td>14316.999</td> <th>  Durbin-Watson:     </th> <td>   0.428</td> \n",
       "</tr>\n",
       "<tr>\n",
       "  <th>Prob(Omnibus):</th>  <td> 0.000</td>   <th>  Jarque-Bera (JB):  </th> <td>35757.326</td>\n",
       "</tr>\n",
       "<tr>\n",
       "  <th>Skew:</th>           <td>-0.476</td>   <th>  Prob(JB):          </th> <td>    0.00</td> \n",
       "</tr>\n",
       "<tr>\n",
       "  <th>Kurtosis:</th>       <td> 4.962</td>   <th>  Cond. No.          </th> <td>1.15e+16</td> \n",
       "</tr>\n",
       "</table><br/><br/>Warnings:<br/>[1] Standard Errors assume that the covariance matrix of the errors is correctly specified.<br/>[2] The smallest eigenvalue is 8.42e-17. This might indicate that there are<br/>strong multicollinearity problems or that the design matrix is singular."
      ],
      "text/plain": [
       "<class 'statsmodels.iolib.summary.Summary'>\n",
       "\"\"\"\n",
       "                            OLS Regression Results                            \n",
       "==============================================================================\n",
       "Dep. Variable:         overall_rating   R-squared:                       0.861\n",
       "Model:                            OLS   Adj. R-squared:                  0.861\n",
       "Method:                 Least Squares   F-statistic:                 1.956e+04\n",
       "Date:                Mon, 20 May 2019   Prob (F-statistic):               0.00\n",
       "Time:                        01:53:38   Log-Likelihood:            -4.2978e+05\n",
       "No. Observations:              180354   AIC:                         8.597e+05\n",
       "Df Residuals:                  180296   BIC:                         8.603e+05\n",
       "Df Model:                          57                                         \n",
       "Covariance Type:            nonrobust                                         \n",
       "======================================================================================\n",
       "                         coef    std err          t      P>|t|      [0.025      0.975]\n",
       "--------------------------------------------------------------------------------------\n",
       "Intercept              0.7025      0.214      3.276      0.001       0.282       1.123\n",
       "player_fifa_api_id -8.729e-06   1.53e-07    -57.122      0.000   -9.03e-06   -8.43e-06\n",
       "player_api_id      -6.342e-06   6.14e-08   -103.313      0.000   -6.46e-06   -6.22e-06\n",
       "potential              0.4459      0.001    304.990      0.000       0.443       0.449\n",
       "crossing               0.0067      0.001      8.368      0.000       0.005       0.008\n",
       "finishing              0.0151      0.001     17.326      0.000       0.013       0.017\n",
       "heading_accuracy       0.0560      0.001     72.182      0.000       0.054       0.058\n",
       "short_passing          0.0565      0.001     43.374      0.000       0.054       0.059\n",
       "volleys               -0.0068      0.001     -8.667      0.000      -0.008      -0.005\n",
       "dribbling              0.0096      0.001      8.670      0.000       0.007       0.012\n",
       "curve                  0.0116      0.001     15.403      0.000       0.010       0.013\n",
       "free_kick_accuracy     0.0079      0.001     11.724      0.000       0.007       0.009\n",
       "long_passing           0.0102      0.001     11.499      0.000       0.008       0.012\n",
       "ball_control           0.1123      0.002     74.692      0.000       0.109       0.115\n",
       "acceleration           0.0119      0.001      9.144      0.000       0.009       0.014\n",
       "sprint_speed           0.0159      0.001     12.854      0.000       0.013       0.018\n",
       "agility               -0.0117      0.001    -12.205      0.000      -0.014      -0.010\n",
       "reactions              0.1760      0.001    168.048      0.000       0.174       0.178\n",
       "balance                0.0048      0.001      6.499      0.000       0.003       0.006\n",
       "shot_power             0.0133      0.001     16.030      0.000       0.012       0.015\n",
       "jumping                0.0112      0.001     16.270      0.000       0.010       0.013\n",
       "stamina               -0.0017      0.001     -2.124      0.034      -0.003      -0.000\n",
       "strength               0.0503      0.001     63.238      0.000       0.049       0.052\n",
       "long_shots            -0.0115      0.001    -13.277      0.000      -0.013      -0.010\n",
       "aggression             0.0111      0.001     16.987      0.000       0.010       0.012\n",
       "interceptions          0.0034      0.001      4.910      0.000       0.002       0.005\n",
       "positioning           -0.0065      0.001     -8.698      0.000      -0.008      -0.005\n",
       "vision                -0.0174      0.001    -20.850      0.000      -0.019      -0.016\n",
       "penalties              0.0084      0.001     11.850      0.000       0.007       0.010\n",
       "marking                0.0260      0.001     24.507      0.000       0.024       0.028\n",
       "standing_tackle        0.0071      0.001      5.817      0.000       0.005       0.010\n",
       "sliding_tackle        -0.0185      0.001    -17.721      0.000      -0.021      -0.016\n",
       "gk_diving              0.1588      0.001    114.721      0.000       0.156       0.161\n",
       "gk_handling            0.0254      0.002     14.053      0.000       0.022       0.029\n",
       "gk_kicking            -0.0461      0.001    -77.112      0.000      -0.047      -0.045\n",
       "gk_positioning         0.0472      0.002     26.182      0.000       0.044       0.051\n",
       "gk_reflexes            0.0201      0.002     11.374      0.000       0.017       0.024\n",
       "ply_right             -0.0013      0.015     -0.090      0.929      -0.031       0.028\n",
       "ply_high               0.2559      0.131      1.955      0.051      -0.001       0.512\n",
       "ply_le                -0.9143      0.177     -5.166      0.000      -1.261      -0.567\n",
       "ply_low                1.0934      0.133      8.220      0.000       0.833       1.354\n",
       "ply_medium             0.1003      0.130      0.770      0.441      -0.155       0.356\n",
       "ply_norm              -0.3853      0.121     -3.180      0.001      -0.623      -0.148\n",
       "ply_stoc              -1.1011      0.171     -6.435      0.000      -1.436      -0.766\n",
       "ply_y                 -0.4702      0.166     -2.828      0.005      -0.796      -0.144\n",
       "plyd_1                 0.6763      0.230      2.936      0.003       0.225       1.128\n",
       "plyd_2                -0.3644      0.240     -1.516      0.129      -0.835       0.107\n",
       "plyd_3                 0.1048      0.255      0.411      0.681      -0.395       0.605\n",
       "plyd_4                -0.8487      0.310     -2.734      0.006      -1.457      -0.240\n",
       "plyd_5                -0.4484      0.258     -1.739      0.082      -0.954       0.057\n",
       "plyd_6                -0.2528      0.275     -0.921      0.357      -0.791       0.285\n",
       "plyd_7                 0.2697      0.265      1.019      0.308      -0.249       0.788\n",
       "plyd_8                 0.0015      0.368      0.004      0.997      -0.719       0.722\n",
       "plyd_9                 0.1856      0.291      0.637      0.524      -0.386       0.757\n",
       "plyd_ean              -0.9143      0.177     -5.166      0.000      -1.261      -0.567\n",
       "plyd_es               -0.4702      0.166     -2.828      0.005      -0.796      -0.144\n",
       "plyd_high             -0.1699      0.225     -0.757      0.449      -0.610       0.270\n",
       "plyd_low               0.0526      0.225      0.234      0.815      -0.389       0.494\n",
       "plyd_medium           -0.3943      0.224     -1.759      0.079      -0.834       0.045\n",
       "plyd_o                -0.7993      0.205     -3.891      0.000      -1.202      -0.397\n",
       "plyd_ormal            -0.3853      0.121     -3.180      0.001      -0.623      -0.148\n",
       "plyd_tocky            -1.1011      0.171     -6.435      0.000      -1.436      -0.766\n",
       "==============================================================================\n",
       "Omnibus:                    14316.999   Durbin-Watson:                   0.428\n",
       "Prob(Omnibus):                  0.000   Jarque-Bera (JB):            35757.326\n",
       "Skew:                          -0.476   Prob(JB):                         0.00\n",
       "Kurtosis:                       4.962   Cond. No.                     1.15e+16\n",
       "==============================================================================\n",
       "\n",
       "Warnings:\n",
       "[1] Standard Errors assume that the covariance matrix of the errors is correctly specified.\n",
       "[2] The smallest eigenvalue is 8.42e-17. This might indicate that there are\n",
       "strong multicollinearity problems or that the design matrix is singular.\n",
       "\"\"\""
      ]
     },
     "execution_count": 36,
     "metadata": {},
     "output_type": "execute_result"
    }
   ],
   "source": [
    "lms = smf.ols(formula='overall_rating ~ player_fifa_api_id+ player_api_id+ potential+ \\\n",
    "crossing+ finishing+ heading_accuracy+ short_passing+ volleys+ dribbling+ curve+ free_kick_accuracy+ \\\n",
    "long_passing+ ball_control+ acceleration+ sprint_speed+ agility+ reactions+ balance+ shot_power+ jumping+ \\\n",
    "stamina+ strength+ long_shots+ aggression+ interceptions+ positioning+ vision+ penalties+ marking+ \\\n",
    "standing_tackle+ sliding_tackle+ gk_diving+ gk_handling+ gk_kicking+ gk_positioning+ gk_reflexes+ \\\n",
    "ply_right+ ply_high+ ply_le+ ply_low+ ply_medium+ ply_norm+ ply_stoc+ ply_y+ plyd_1+ plyd_2+ plyd_3+ plyd_4+ \\\n",
    "plyd_5+ plyd_6+ plyd_7+ plyd_8+ plyd_9+ plyd_ean+ plyd_es+ plyd_high+ plyd_low+ plyd_medium+ plyd_o+ plyd_ormal+ \\\n",
    "plyd_tocky', data=df).fit()\n",
    "lms.conf_int()\n",
    "lms.summary()"
   ]
  },
  {
   "cell_type": "code",
   "execution_count": 37,
   "metadata": {},
   "outputs": [],
   "source": [
    "pred_y = lms.predict(test_x)"
   ]
  },
  {
   "cell_type": "code",
   "execution_count": 38,
   "metadata": {},
   "outputs": [
    {
     "data": {
      "text/html": [
       "<div>\n",
       "<style scoped>\n",
       "    .dataframe tbody tr th:only-of-type {\n",
       "        vertical-align: middle;\n",
       "    }\n",
       "\n",
       "    .dataframe tbody tr th {\n",
       "        vertical-align: top;\n",
       "    }\n",
       "\n",
       "    .dataframe thead th {\n",
       "        text-align: right;\n",
       "    }\n",
       "</style>\n",
       "<table border=\"1\" class=\"dataframe\">\n",
       "  <thead>\n",
       "    <tr style=\"text-align: right;\">\n",
       "      <th></th>\n",
       "      <th>0</th>\n",
       "      <th>1</th>\n",
       "    </tr>\n",
       "  </thead>\n",
       "  <tbody>\n",
       "    <tr>\n",
       "      <th>Intercept</th>\n",
       "      <td>0.282189</td>\n",
       "      <td>1.122777</td>\n",
       "    </tr>\n",
       "    <tr>\n",
       "      <th>player_fifa_api_id</th>\n",
       "      <td>-0.000009</td>\n",
       "      <td>-0.000008</td>\n",
       "    </tr>\n",
       "    <tr>\n",
       "      <th>player_api_id</th>\n",
       "      <td>-0.000006</td>\n",
       "      <td>-0.000006</td>\n",
       "    </tr>\n",
       "    <tr>\n",
       "      <th>potential</th>\n",
       "      <td>0.442995</td>\n",
       "      <td>0.448725</td>\n",
       "    </tr>\n",
       "    <tr>\n",
       "      <th>crossing</th>\n",
       "      <td>0.005156</td>\n",
       "      <td>0.008311</td>\n",
       "    </tr>\n",
       "    <tr>\n",
       "      <th>finishing</th>\n",
       "      <td>0.013366</td>\n",
       "      <td>0.016776</td>\n",
       "    </tr>\n",
       "    <tr>\n",
       "      <th>heading_accuracy</th>\n",
       "      <td>0.054497</td>\n",
       "      <td>0.057539</td>\n",
       "    </tr>\n",
       "    <tr>\n",
       "      <th>short_passing</th>\n",
       "      <td>0.053968</td>\n",
       "      <td>0.059077</td>\n",
       "    </tr>\n",
       "    <tr>\n",
       "      <th>volleys</th>\n",
       "      <td>-0.008298</td>\n",
       "      <td>-0.005237</td>\n",
       "    </tr>\n",
       "    <tr>\n",
       "      <th>dribbling</th>\n",
       "      <td>0.007440</td>\n",
       "      <td>0.011786</td>\n",
       "    </tr>\n",
       "    <tr>\n",
       "      <th>curve</th>\n",
       "      <td>0.010167</td>\n",
       "      <td>0.013132</td>\n",
       "    </tr>\n",
       "    <tr>\n",
       "      <th>free_kick_accuracy</th>\n",
       "      <td>0.006571</td>\n",
       "      <td>0.009208</td>\n",
       "    </tr>\n",
       "    <tr>\n",
       "      <th>long_passing</th>\n",
       "      <td>0.008499</td>\n",
       "      <td>0.011992</td>\n",
       "    </tr>\n",
       "    <tr>\n",
       "      <th>ball_control</th>\n",
       "      <td>0.109391</td>\n",
       "      <td>0.115287</td>\n",
       "    </tr>\n",
       "    <tr>\n",
       "      <th>acceleration</th>\n",
       "      <td>0.009365</td>\n",
       "      <td>0.014474</td>\n",
       "    </tr>\n",
       "    <tr>\n",
       "      <th>sprint_speed</th>\n",
       "      <td>0.013463</td>\n",
       "      <td>0.018307</td>\n",
       "    </tr>\n",
       "    <tr>\n",
       "      <th>agility</th>\n",
       "      <td>-0.013613</td>\n",
       "      <td>-0.009846</td>\n",
       "    </tr>\n",
       "    <tr>\n",
       "      <th>reactions</th>\n",
       "      <td>0.173929</td>\n",
       "      <td>0.178034</td>\n",
       "    </tr>\n",
       "    <tr>\n",
       "      <th>balance</th>\n",
       "      <td>0.003367</td>\n",
       "      <td>0.006275</td>\n",
       "    </tr>\n",
       "    <tr>\n",
       "      <th>shot_power</th>\n",
       "      <td>0.011647</td>\n",
       "      <td>0.014892</td>\n",
       "    </tr>\n",
       "    <tr>\n",
       "      <th>jumping</th>\n",
       "      <td>0.009843</td>\n",
       "      <td>0.012539</td>\n",
       "    </tr>\n",
       "    <tr>\n",
       "      <th>stamina</th>\n",
       "      <td>-0.003186</td>\n",
       "      <td>-0.000128</td>\n",
       "    </tr>\n",
       "    <tr>\n",
       "      <th>strength</th>\n",
       "      <td>0.048701</td>\n",
       "      <td>0.051817</td>\n",
       "    </tr>\n",
       "    <tr>\n",
       "      <th>long_shots</th>\n",
       "      <td>-0.013164</td>\n",
       "      <td>-0.009777</td>\n",
       "    </tr>\n",
       "    <tr>\n",
       "      <th>aggression</th>\n",
       "      <td>0.009806</td>\n",
       "      <td>0.012364</td>\n",
       "    </tr>\n",
       "    <tr>\n",
       "      <th>interceptions</th>\n",
       "      <td>0.002062</td>\n",
       "      <td>0.004801</td>\n",
       "    </tr>\n",
       "    <tr>\n",
       "      <th>positioning</th>\n",
       "      <td>-0.007977</td>\n",
       "      <td>-0.005043</td>\n",
       "    </tr>\n",
       "    <tr>\n",
       "      <th>vision</th>\n",
       "      <td>-0.019008</td>\n",
       "      <td>-0.015741</td>\n",
       "    </tr>\n",
       "    <tr>\n",
       "      <th>penalties</th>\n",
       "      <td>0.007026</td>\n",
       "      <td>0.009811</td>\n",
       "    </tr>\n",
       "    <tr>\n",
       "      <th>marking</th>\n",
       "      <td>0.023888</td>\n",
       "      <td>0.028042</td>\n",
       "    </tr>\n",
       "    <tr>\n",
       "      <th>...</th>\n",
       "      <td>...</td>\n",
       "      <td>...</td>\n",
       "    </tr>\n",
       "    <tr>\n",
       "      <th>gk_diving</th>\n",
       "      <td>0.156048</td>\n",
       "      <td>0.161473</td>\n",
       "    </tr>\n",
       "    <tr>\n",
       "      <th>gk_handling</th>\n",
       "      <td>0.021894</td>\n",
       "      <td>0.028991</td>\n",
       "    </tr>\n",
       "    <tr>\n",
       "      <th>gk_kicking</th>\n",
       "      <td>-0.047232</td>\n",
       "      <td>-0.044891</td>\n",
       "    </tr>\n",
       "    <tr>\n",
       "      <th>gk_positioning</th>\n",
       "      <td>0.043622</td>\n",
       "      <td>0.050682</td>\n",
       "    </tr>\n",
       "    <tr>\n",
       "      <th>gk_reflexes</th>\n",
       "      <td>0.016644</td>\n",
       "      <td>0.023575</td>\n",
       "    </tr>\n",
       "    <tr>\n",
       "      <th>ply_right</th>\n",
       "      <td>-0.030651</td>\n",
       "      <td>0.027970</td>\n",
       "    </tr>\n",
       "    <tr>\n",
       "      <th>ply_high</th>\n",
       "      <td>-0.000638</td>\n",
       "      <td>0.512349</td>\n",
       "    </tr>\n",
       "    <tr>\n",
       "      <th>ply_le</th>\n",
       "      <td>-1.261114</td>\n",
       "      <td>-0.567431</td>\n",
       "    </tr>\n",
       "    <tr>\n",
       "      <th>ply_low</th>\n",
       "      <td>0.832687</td>\n",
       "      <td>1.354117</td>\n",
       "    </tr>\n",
       "    <tr>\n",
       "      <th>ply_medium</th>\n",
       "      <td>-0.155011</td>\n",
       "      <td>0.355626</td>\n",
       "    </tr>\n",
       "    <tr>\n",
       "      <th>ply_norm</th>\n",
       "      <td>-0.622846</td>\n",
       "      <td>-0.147847</td>\n",
       "    </tr>\n",
       "    <tr>\n",
       "      <th>ply_stoc</th>\n",
       "      <td>-1.436420</td>\n",
       "      <td>-0.765726</td>\n",
       "    </tr>\n",
       "    <tr>\n",
       "      <th>ply_y</th>\n",
       "      <td>-0.796160</td>\n",
       "      <td>-0.144288</td>\n",
       "    </tr>\n",
       "    <tr>\n",
       "      <th>plyd_1</th>\n",
       "      <td>0.224812</td>\n",
       "      <td>1.127732</td>\n",
       "    </tr>\n",
       "    <tr>\n",
       "      <th>plyd_2</th>\n",
       "      <td>-0.835399</td>\n",
       "      <td>0.106605</td>\n",
       "    </tr>\n",
       "    <tr>\n",
       "      <th>plyd_3</th>\n",
       "      <td>-0.395033</td>\n",
       "      <td>0.604622</td>\n",
       "    </tr>\n",
       "    <tr>\n",
       "      <th>plyd_4</th>\n",
       "      <td>-1.457075</td>\n",
       "      <td>-0.240374</td>\n",
       "    </tr>\n",
       "    <tr>\n",
       "      <th>plyd_5</th>\n",
       "      <td>-0.953893</td>\n",
       "      <td>0.057087</td>\n",
       "    </tr>\n",
       "    <tr>\n",
       "      <th>plyd_6</th>\n",
       "      <td>-0.791025</td>\n",
       "      <td>0.285390</td>\n",
       "    </tr>\n",
       "    <tr>\n",
       "      <th>plyd_7</th>\n",
       "      <td>-0.248946</td>\n",
       "      <td>0.788252</td>\n",
       "    </tr>\n",
       "    <tr>\n",
       "      <th>plyd_8</th>\n",
       "      <td>-0.719402</td>\n",
       "      <td>0.722402</td>\n",
       "    </tr>\n",
       "    <tr>\n",
       "      <th>plyd_9</th>\n",
       "      <td>-0.385608</td>\n",
       "      <td>0.756857</td>\n",
       "    </tr>\n",
       "    <tr>\n",
       "      <th>plyd_ean</th>\n",
       "      <td>-1.261114</td>\n",
       "      <td>-0.567431</td>\n",
       "    </tr>\n",
       "    <tr>\n",
       "      <th>plyd_es</th>\n",
       "      <td>-0.796160</td>\n",
       "      <td>-0.144288</td>\n",
       "    </tr>\n",
       "    <tr>\n",
       "      <th>plyd_high</th>\n",
       "      <td>-0.610016</td>\n",
       "      <td>0.270205</td>\n",
       "    </tr>\n",
       "    <tr>\n",
       "      <th>plyd_low</th>\n",
       "      <td>-0.388569</td>\n",
       "      <td>0.493681</td>\n",
       "    </tr>\n",
       "    <tr>\n",
       "      <th>plyd_medium</th>\n",
       "      <td>-0.833514</td>\n",
       "      <td>0.044998</td>\n",
       "    </tr>\n",
       "    <tr>\n",
       "      <th>plyd_o</th>\n",
       "      <td>-1.201934</td>\n",
       "      <td>-0.396721</td>\n",
       "    </tr>\n",
       "    <tr>\n",
       "      <th>plyd_ormal</th>\n",
       "      <td>-0.622846</td>\n",
       "      <td>-0.147847</td>\n",
       "    </tr>\n",
       "    <tr>\n",
       "      <th>plyd_tocky</th>\n",
       "      <td>-1.436420</td>\n",
       "      <td>-0.765726</td>\n",
       "    </tr>\n",
       "  </tbody>\n",
       "</table>\n",
       "<p>62 rows × 2 columns</p>\n",
       "</div>"
      ],
      "text/plain": [
       "                           0         1\n",
       "Intercept           0.282189  1.122777\n",
       "player_fifa_api_id -0.000009 -0.000008\n",
       "player_api_id      -0.000006 -0.000006\n",
       "potential           0.442995  0.448725\n",
       "crossing            0.005156  0.008311\n",
       "finishing           0.013366  0.016776\n",
       "heading_accuracy    0.054497  0.057539\n",
       "short_passing       0.053968  0.059077\n",
       "volleys            -0.008298 -0.005237\n",
       "dribbling           0.007440  0.011786\n",
       "curve               0.010167  0.013132\n",
       "free_kick_accuracy  0.006571  0.009208\n",
       "long_passing        0.008499  0.011992\n",
       "ball_control        0.109391  0.115287\n",
       "acceleration        0.009365  0.014474\n",
       "sprint_speed        0.013463  0.018307\n",
       "agility            -0.013613 -0.009846\n",
       "reactions           0.173929  0.178034\n",
       "balance             0.003367  0.006275\n",
       "shot_power          0.011647  0.014892\n",
       "jumping             0.009843  0.012539\n",
       "stamina            -0.003186 -0.000128\n",
       "strength            0.048701  0.051817\n",
       "long_shots         -0.013164 -0.009777\n",
       "aggression          0.009806  0.012364\n",
       "interceptions       0.002062  0.004801\n",
       "positioning        -0.007977 -0.005043\n",
       "vision             -0.019008 -0.015741\n",
       "penalties           0.007026  0.009811\n",
       "marking             0.023888  0.028042\n",
       "...                      ...       ...\n",
       "gk_diving           0.156048  0.161473\n",
       "gk_handling         0.021894  0.028991\n",
       "gk_kicking         -0.047232 -0.044891\n",
       "gk_positioning      0.043622  0.050682\n",
       "gk_reflexes         0.016644  0.023575\n",
       "ply_right          -0.030651  0.027970\n",
       "ply_high           -0.000638  0.512349\n",
       "ply_le             -1.261114 -0.567431\n",
       "ply_low             0.832687  1.354117\n",
       "ply_medium         -0.155011  0.355626\n",
       "ply_norm           -0.622846 -0.147847\n",
       "ply_stoc           -1.436420 -0.765726\n",
       "ply_y              -0.796160 -0.144288\n",
       "plyd_1              0.224812  1.127732\n",
       "plyd_2             -0.835399  0.106605\n",
       "plyd_3             -0.395033  0.604622\n",
       "plyd_4             -1.457075 -0.240374\n",
       "plyd_5             -0.953893  0.057087\n",
       "plyd_6             -0.791025  0.285390\n",
       "plyd_7             -0.248946  0.788252\n",
       "plyd_8             -0.719402  0.722402\n",
       "plyd_9             -0.385608  0.756857\n",
       "plyd_ean           -1.261114 -0.567431\n",
       "plyd_es            -0.796160 -0.144288\n",
       "plyd_high          -0.610016  0.270205\n",
       "plyd_low           -0.388569  0.493681\n",
       "plyd_medium        -0.833514  0.044998\n",
       "plyd_o             -1.201934 -0.396721\n",
       "plyd_ormal         -0.622846 -0.147847\n",
       "plyd_tocky         -1.436420 -0.765726\n",
       "\n",
       "[62 rows x 2 columns]"
      ]
     },
     "execution_count": 38,
     "metadata": {},
     "output_type": "execute_result"
    }
   ],
   "source": [
    "lms.conf_int()"
   ]
  },
  {
   "cell_type": "code",
   "execution_count": 39,
   "metadata": {},
   "outputs": [
    {
     "data": {
      "text/plain": [
       "<matplotlib.axes._subplots.AxesSubplot at 0x228ea317240>"
      ]
     },
     "execution_count": 39,
     "metadata": {},
     "output_type": "execute_result"
    },
    {
     "data": {
      "image/png": "[encoded data removed]",
      "text/plain": [
       "<Figure size 432x288 with 1 Axes>"
      ]
     },
     "metadata": {
      "needs_background": "light"
     },
     "output_type": "display_data"
    }
   ],
   "source": [
    "sns.scatterplot(test_y, (test_y - pred_y))"
   ]
  },
  {
   "cell_type": "markdown",
   "metadata": {},
   "source": [
    "- Thus the R squared is **86 %**\n",
    "- The p-value for most of the attrbutes are less then 0.05.\n",
    "- The model is predicting at **85 %** rate.\n",
    "- Also on the histogram, the predicted and actual values are plotted very similarly."
   ]
  },
  {
   "cell_type": "code",
   "execution_count": null,
   "metadata": {},
   "outputs": [],
   "source": []
  },
  {
   "cell_type": "code",
   "execution_count": null,
   "metadata": {},
   "outputs": [],
   "source": []
  }
 ],
 "metadata": {
  "kernelspec": {
   "display_name": "Python 3",
   "language": "python",
   "name": "python3"
  },
  "language_info": {
   "codemirror_mode": {
    "name": "ipython",
    "version": 3
   },
   "file_extension": ".py",
   "mimetype": "text/x-python",
   "name": "python",
   "nbconvert_exporter": "python",
   "pygments_lexer": "ipython3",
   "version": "3.7.1"
  }
 },
 "nbformat": 4,
 "nbformat_minor": 2
}
